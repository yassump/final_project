{
 "cells": [
  {
   "cell_type": "code",
   "execution_count": 1,
   "metadata": {},
   "outputs": [
    {
     "name": "stdout",
     "output_type": "stream",
     "text": [
      "all the libraries are downloaded\n"
     ]
    }
   ],
   "source": [
    "import pandas as pd\n",
    "import numpy as np\n",
    "import io\n",
    "pd.set_option('mode.chained_assignment', None)\n",
    "import pickle\n",
    "print(\"all the libraries are downloaded\")"
   ]
  },
  {
   "cell_type": "code",
   "execution_count": 2,
   "metadata": {},
   "outputs": [],
   "source": [
    "path=\"C:\\\\Users\\\\yasaswini\\\\Desktop\\\\internbuddy.xlsx\"\n",
    "names=[\"app_id\",\"current_city\",\"python\",\"r\",\"data_science\",\"skills\",\"institute\",\"degree\",\"stream\",\"year\",\"performance_pg\",\"perfomance_ug\",\"per_12\",\"per_10\"]\n",
    "data=pd.read_excel(path,names=names)"
   ]
  },
  {
   "cell_type": "code",
   "execution_count": 3,
   "metadata": {},
   "outputs": [],
   "source": [
    "df=pd.DataFrame(data)\n"
   ]
  },
  {
   "cell_type": "code",
   "execution_count": 14,
   "metadata": {},
   "outputs": [],
   "source": [
    "df.drop(['app_id','current_city','institute','per_12','per_10','stream','performance_pg','perfomance_ug'],axis=1,inplace=True)"
   ]
  },
  {
   "cell_type": "code",
   "execution_count": 5,
   "metadata": {},
   "outputs": [],
   "source": [
    "df=df[df.year<=2020]\n",
    "df.reset_index(drop=True,inplace=True)"
   ]
  },
  {
   "cell_type": "code",
   "execution_count": 6,
   "metadata": {},
   "outputs": [],
   "source": [
    "df.replace(['Bachelor of Engineering (B.E)','Master of Science (M.Sc)','Bachelor of Technology (B.Tech)','Master of Technology (M.Tech)','Bachelor of Business Administration (B.B.A.)','Master of Science (M.Sc)'],['B.E','MSc','B.Tech','M.Tech','BBA','MSc'],inplace=True)"
   ]
  },
  {
   "cell_type": "code",
   "execution_count": 7,
   "metadata": {},
   "outputs": [],
   "source": [
    "df.loc[:,'weightage']=0"
   ]
  },
  {
   "cell_type": "code",
   "execution_count": 8,
   "metadata": {},
   "outputs": [],
   "source": [
    "df.loc[:,'result']=\" \""
   ]
  },
  {
   "cell_type": "code",
   "execution_count": 9,
   "metadata": {},
   "outputs": [],
   "source": [
    "for i in range(len(df)):\n",
    "    if((df['degree'][i]==\"B.Tech\")and(df['year'][i]==2020)):\n",
    "        df['weightage'][i]=df['weightage'][i]+10\n",
    "    elif((df['degree'][i]==\"B.E\")and(df['year'][i]==2020)):\n",
    "        df['weightage'][i]=df['weightage'][i]+10\n",
    "    elif((df['degree'][i]==\"B.Tech\")and(df['year'][i]==2019)):\n",
    "        df['weightage'][i]=df['weightage'][i]+8\n",
    "    elif((df['degree'][i]==\"B.E\")and(df['year'][i]==2019)):\n",
    "        df['weightage'][i]=df['weightage'][i]+8\n",
    "    elif((df['degree'][i]==\"B.Tech\")and(df['year'][i]<=2018)):\n",
    "        df['weightage'][i]=df['weightage'][i]+5\n",
    "    elif((df['degree'][i]==\"B.E\")and(df['year'][i]<=2018)):\n",
    "        df['weightage'][i]=df['weightage'][i]+5\n",
    "    elif((df['degree'][i]==\"MSc\")and(df['year'][i]==2020)):\n",
    "        df['weightage'][i]=df['weightage'][i]+7\n",
    "    elif((df['degree'][i]==\"M.Tech\")and(df['year'][i]==2020)):\n",
    "        df['weightage'][i]=df['weightage'][i]+7\n",
    "    elif((df['degree'][i]==\"MSc\")and(df['year'][i]<=2019)):\n",
    "        df['weightage'][i]=df['weightage'][i]+3\n",
    "    elif((df['degree'][i]==\"M.Tech\")and(df['year'][i]<=2019)):\n",
    "        df['weightage'][i]=df['weightage'][i]+3\n",
    "    else:\n",
    "        df['weightage'][i]=df['weightage'][i]+0\n",
    "\n",
    "        "
   ]
  },
  {
   "cell_type": "code",
   "execution_count": 10,
   "metadata": {},
   "outputs": [],
   "source": [
    "for i in range(len(df)):\n",
    "    if(df['python'][i]==3):\n",
    "        df['weightage'][i]=df['weightage'][i]+10\n",
    "    if(df['r'][i]==3):\n",
    "        df['weightage'][i]=df['weightage'][i]+10\n",
    "    if(df['data_science'][i]==3):\n",
    "        df['weightage'][i]=df['weightage'][i]+10\n",
    "    if(df['python'][i]==2):\n",
    "        df['weightage'][i]=df['weightage'][i]+7\n",
    "    if(df['r'][i]==2):\n",
    "        df['weightage'][i]=df['weightage'][i]+7\n",
    "    if(df['data_science'][i]==2):\n",
    "        df['weightage'][i]=df['weightage'][i]+7\n",
    "    if(df['python'][i]==1):\n",
    "        df['weightage'][i]=df['weightage'][i]+3\n",
    "    if(df['r'][i]==1):\n",
    "        df['weightage'][i]=df['weightage'][i]+3\n",
    "    if(df['data_science'][i]==1):\n",
    "        df['weightage'][i]=df['weightage'][i]+3\n"
   ]
  },
  {
   "cell_type": "code",
   "execution_count": 11,
   "metadata": {},
   "outputs": [],
   "source": [
    "for i in range(len(df)):\n",
    "    if(\"Machine Learning\"in str(df['skills'][i])):\n",
    "        df['weightage'][i]=df['weightage'][i]+3\n",
    "    if(\"Deep Learning\" in str(df['skills'][i])):\n",
    "        df['weightage'][i]=df['weightage'][i]+3\n",
    "    if(\"Natural Language Processing (NLP)\" in str(df['skills'][i])):\n",
    "        df['weightage'][i]=df['weightage'][i]+3\n",
    "    if(\"Amazon Web Service(AWS)\" in str(df['skills'][i])):\n",
    "        df['weightage'][i]=df['weightage'][i]+3\n",
    "    if(\"MS-excel\" in str(df['skills'][i])):\n",
    "        df['weightage'][i]=df['weightage'][i]+3\n",
    "    if(\"Statistical Data Analysis\" in str(df['skills'][i])):\n",
    "        df['weightage'][i]=df['weightage'][i]+3\n",
    "    if(\"MySQL\" in str(df['skills'][i])):\n",
    "        df['weightage'][i]=df['weightage'][i]+3\n",
    "    if(\"NoSQl\" in str(df['skills'][i])):\n",
    "        df['weightage'][i]=df['weightage'][i]+3\n",
    "    if(\"SQL\" in str(df['skills'][i])):\n",
    "        df['weightage'][i]=df['weightage'][i]+3\n",
    "    if(\"Statistics\" in str(df['skills'][i])):\n",
    "        df['weightage'][i]=df['weightage'][i]+3    \n"
   ]
  },
  {
   "cell_type": "code",
   "execution_count": 12,
   "metadata": {},
   "outputs": [],
   "source": [
    "df.replace(['B.Com. Professional','Post Graduate Program in Business Analytics','Bachelor of Commerce (B.Com) (Hons.)','Bachelor of Business Management (B.B.M.)','Post Graduate Diploma in Business Management (P.G.D.B.M.)','Bachelor of Mathematics (B.Math) (Hons.)'],['B.Com','PG in business','B.Com','BBM','PGDBM','BSc'],inplace=True)"
   ]
  },
  {
   "cell_type": "code",
   "execution_count": 15,
   "metadata": {},
   "outputs": [
    {
     "data": {
      "text/html": [
       "<div>\n",
       "<style scoped>\n",
       "    .dataframe tbody tr th:only-of-type {\n",
       "        vertical-align: middle;\n",
       "    }\n",
       "\n",
       "    .dataframe tbody tr th {\n",
       "        vertical-align: top;\n",
       "    }\n",
       "\n",
       "    .dataframe thead th {\n",
       "        text-align: right;\n",
       "    }\n",
       "</style>\n",
       "<table border=\"1\" class=\"dataframe\">\n",
       "  <thead>\n",
       "    <tr style=\"text-align: right;\">\n",
       "      <th></th>\n",
       "      <th>python</th>\n",
       "      <th>r</th>\n",
       "      <th>data_science</th>\n",
       "      <th>skills</th>\n",
       "      <th>degree</th>\n",
       "      <th>year</th>\n",
       "      <th>weightage</th>\n",
       "      <th>result</th>\n",
       "    </tr>\n",
       "  </thead>\n",
       "  <tbody>\n",
       "    <tr>\n",
       "      <td>460</td>\n",
       "      <td>2</td>\n",
       "      <td>0</td>\n",
       "      <td>2</td>\n",
       "      <td>Algorithms, Articulate Storyline, Audacity, Au...</td>\n",
       "      <td>B.E</td>\n",
       "      <td>2017</td>\n",
       "      <td>31</td>\n",
       "      <td></td>\n",
       "    </tr>\n",
       "    <tr>\n",
       "      <td>521</td>\n",
       "      <td>2</td>\n",
       "      <td>2</td>\n",
       "      <td>0</td>\n",
       "      <td>Computer Vision, Data Analytics, Image Process...</td>\n",
       "      <td>M.Tech</td>\n",
       "      <td>2016</td>\n",
       "      <td>29</td>\n",
       "      <td></td>\n",
       "    </tr>\n",
       "    <tr>\n",
       "      <td>147</td>\n",
       "      <td>2</td>\n",
       "      <td>0</td>\n",
       "      <td>0</td>\n",
       "      <td>HTML, Bootstrap, C Programming, CSS, Data Anal...</td>\n",
       "      <td>B.E</td>\n",
       "      <td>2019</td>\n",
       "      <td>15</td>\n",
       "      <td></td>\n",
       "    </tr>\n",
       "    <tr>\n",
       "      <td>183</td>\n",
       "      <td>1</td>\n",
       "      <td>0</td>\n",
       "      <td>0</td>\n",
       "      <td>C Programming, C++ Programming, Python</td>\n",
       "      <td>B.E</td>\n",
       "      <td>2020</td>\n",
       "      <td>13</td>\n",
       "      <td></td>\n",
       "    </tr>\n",
       "    <tr>\n",
       "      <td>519</td>\n",
       "      <td>2</td>\n",
       "      <td>2</td>\n",
       "      <td>0</td>\n",
       "      <td>Data Analytics, Machine Learning, Natural Lang...</td>\n",
       "      <td>B.Tech</td>\n",
       "      <td>2016</td>\n",
       "      <td>28</td>\n",
       "      <td></td>\n",
       "    </tr>\n",
       "  </tbody>\n",
       "</table>\n",
       "</div>"
      ],
      "text/plain": [
       "     python  r  data_science  \\\n",
       "460       2  0             2   \n",
       "521       2  2             0   \n",
       "147       2  0             0   \n",
       "183       1  0             0   \n",
       "519       2  2             0   \n",
       "\n",
       "                                                skills  degree  year  \\\n",
       "460  Algorithms, Articulate Storyline, Audacity, Au...     B.E  2017   \n",
       "521  Computer Vision, Data Analytics, Image Process...  M.Tech  2016   \n",
       "147  HTML, Bootstrap, C Programming, CSS, Data Anal...     B.E  2019   \n",
       "183             C Programming, C++ Programming, Python     B.E  2020   \n",
       "519  Data Analytics, Machine Learning, Natural Lang...  B.Tech  2016   \n",
       "\n",
       "     weightage result  \n",
       "460         31         \n",
       "521         29         \n",
       "147         15         \n",
       "183         13         \n",
       "519         28         "
      ]
     },
     "execution_count": 15,
     "metadata": {},
     "output_type": "execute_result"
    }
   ],
   "source": [
    "df.sample(5)"
   ]
  },
  {
   "cell_type": "code",
   "execution_count": 18,
   "metadata": {},
   "outputs": [],
   "source": [
    "for i in range(len(df)):\n",
    "    if(df['weightage'][i]>=40):\n",
    "        df['result'][i]=\"pass\"\n",
    "    else:\n",
    "        df['result'][i]=\"fail\"\n"
   ]
  },
  {
   "cell_type": "code",
   "execution_count": 19,
   "metadata": {},
   "outputs": [
    {
     "data": {
      "text/html": [
       "<div>\n",
       "<style scoped>\n",
       "    .dataframe tbody tr th:only-of-type {\n",
       "        vertical-align: middle;\n",
       "    }\n",
       "\n",
       "    .dataframe tbody tr th {\n",
       "        vertical-align: top;\n",
       "    }\n",
       "\n",
       "    .dataframe thead th {\n",
       "        text-align: right;\n",
       "    }\n",
       "</style>\n",
       "<table border=\"1\" class=\"dataframe\">\n",
       "  <thead>\n",
       "    <tr style=\"text-align: right;\">\n",
       "      <th></th>\n",
       "      <th>python</th>\n",
       "      <th>r</th>\n",
       "      <th>data_science</th>\n",
       "      <th>skills</th>\n",
       "      <th>degree</th>\n",
       "      <th>year</th>\n",
       "      <th>weightage</th>\n",
       "      <th>result</th>\n",
       "    </tr>\n",
       "  </thead>\n",
       "  <tbody>\n",
       "    <tr>\n",
       "      <td>0</td>\n",
       "      <td>1</td>\n",
       "      <td>0</td>\n",
       "      <td>3</td>\n",
       "      <td>Machine Learning, Arduino, C Programming, CSS,...</td>\n",
       "      <td>B.E</td>\n",
       "      <td>2019</td>\n",
       "      <td>30</td>\n",
       "      <td>fail</td>\n",
       "    </tr>\n",
       "    <tr>\n",
       "      <td>1</td>\n",
       "      <td>2</td>\n",
       "      <td>1</td>\n",
       "      <td>2</td>\n",
       "      <td>AutoCAD, MS-Office, Machine Learning, Microsof...</td>\n",
       "      <td>NaN</td>\n",
       "      <td>2020</td>\n",
       "      <td>29</td>\n",
       "      <td>fail</td>\n",
       "    </tr>\n",
       "    <tr>\n",
       "      <td>2</td>\n",
       "      <td>2</td>\n",
       "      <td>0</td>\n",
       "      <td>0</td>\n",
       "      <td>C++ Programming, Data Structures, Image Proces...</td>\n",
       "      <td>B.Tech</td>\n",
       "      <td>2018</td>\n",
       "      <td>12</td>\n",
       "      <td>fail</td>\n",
       "    </tr>\n",
       "    <tr>\n",
       "      <td>3</td>\n",
       "      <td>2</td>\n",
       "      <td>0</td>\n",
       "      <td>0</td>\n",
       "      <td>MS-Word, Python, SQL, MS-Excel</td>\n",
       "      <td>B.E</td>\n",
       "      <td>2018</td>\n",
       "      <td>15</td>\n",
       "      <td>fail</td>\n",
       "    </tr>\n",
       "    <tr>\n",
       "      <td>4</td>\n",
       "      <td>2</td>\n",
       "      <td>2</td>\n",
       "      <td>0</td>\n",
       "      <td>Natural Language Processing (NLP), Python, R P...</td>\n",
       "      <td>B.Tech (Hons.)</td>\n",
       "      <td>2016</td>\n",
       "      <td>20</td>\n",
       "      <td>fail</td>\n",
       "    </tr>\n",
       "  </tbody>\n",
       "</table>\n",
       "</div>"
      ],
      "text/plain": [
       "   python  r  data_science                                             skills  \\\n",
       "0       1  0             3  Machine Learning, Arduino, C Programming, CSS,...   \n",
       "1       2  1             2  AutoCAD, MS-Office, Machine Learning, Microsof...   \n",
       "2       2  0             0  C++ Programming, Data Structures, Image Proces...   \n",
       "3       2  0             0                     MS-Word, Python, SQL, MS-Excel   \n",
       "4       2  2             0  Natural Language Processing (NLP), Python, R P...   \n",
       "\n",
       "           degree  year  weightage result  \n",
       "0             B.E  2019         30   fail  \n",
       "1             NaN  2020         29   fail  \n",
       "2          B.Tech  2018         12   fail  \n",
       "3             B.E  2018         15   fail  \n",
       "4  B.Tech (Hons.)  2016         20   fail  "
      ]
     },
     "execution_count": 19,
     "metadata": {},
     "output_type": "execute_result"
    }
   ],
   "source": [
    "df.head()"
   ]
  },
  {
   "cell_type": "code",
   "execution_count": 32,
   "metadata": {},
   "outputs": [
    {
     "data": {
      "text/plain": [
       "(522, 39)"
      ]
     },
     "execution_count": 32,
     "metadata": {},
     "output_type": "execute_result"
    }
   ],
   "source": [
    "df_onehot = pd.get_dummies(df[['degree']], prefix=\"\", prefix_sep=\"\")\n",
    "\n",
    "df_onehot.head()\n",
    "df_onehot.shape"
   ]
  },
  {
   "cell_type": "code",
   "execution_count": 24,
   "metadata": {},
   "outputs": [
    {
     "data": {
      "text/html": [
       "<div>\n",
       "<style scoped>\n",
       "    .dataframe tbody tr th:only-of-type {\n",
       "        vertical-align: middle;\n",
       "    }\n",
       "\n",
       "    .dataframe tbody tr th {\n",
       "        vertical-align: top;\n",
       "    }\n",
       "\n",
       "    .dataframe thead th {\n",
       "        text-align: right;\n",
       "    }\n",
       "</style>\n",
       "<table border=\"1\" class=\"dataframe\">\n",
       "  <thead>\n",
       "    <tr style=\"text-align: right;\">\n",
       "      <th></th>\n",
       "      <th>python</th>\n",
       "      <th>r</th>\n",
       "      <th>data_science</th>\n",
       "      <th>skills</th>\n",
       "      <th>degree</th>\n",
       "      <th>year</th>\n",
       "      <th>weightage</th>\n",
       "      <th>result</th>\n",
       "      <th>B.Com</th>\n",
       "      <th>B.E</th>\n",
       "      <th>...</th>\n",
       "      <th>Master of Science (M.S.)</th>\n",
       "      <th>Master of Science (M.Sc) (Hons.)</th>\n",
       "      <th>Master of Statistics (M.Stat)</th>\n",
       "      <th>PG Diploma in Data Science</th>\n",
       "      <th>PG in business</th>\n",
       "      <th>PGDBM</th>\n",
       "      <th>Post Graduate Diploma</th>\n",
       "      <th>Post Graduate Diploma in Big Data Analytics (PG-DBDA)</th>\n",
       "      <th>Post Graduate Diploma in Management (P.G.D.M.)</th>\n",
       "      <th>Post Graduate Programme (PGP)</th>\n",
       "    </tr>\n",
       "  </thead>\n",
       "  <tbody>\n",
       "    <tr>\n",
       "      <td>0</td>\n",
       "      <td>1</td>\n",
       "      <td>0</td>\n",
       "      <td>3</td>\n",
       "      <td>Machine Learning, Arduino, C Programming, CSS,...</td>\n",
       "      <td>B.E</td>\n",
       "      <td>2019</td>\n",
       "      <td>30</td>\n",
       "      <td>fail</td>\n",
       "      <td>0</td>\n",
       "      <td>1</td>\n",
       "      <td>...</td>\n",
       "      <td>0</td>\n",
       "      <td>0</td>\n",
       "      <td>0</td>\n",
       "      <td>0</td>\n",
       "      <td>0</td>\n",
       "      <td>0</td>\n",
       "      <td>0</td>\n",
       "      <td>0</td>\n",
       "      <td>0</td>\n",
       "      <td>0</td>\n",
       "    </tr>\n",
       "  </tbody>\n",
       "</table>\n",
       "<p>1 rows × 47 columns</p>\n",
       "</div>"
      ],
      "text/plain": [
       "   python  r  data_science                                             skills  \\\n",
       "0       1  0             3  Machine Learning, Arduino, C Programming, CSS,...   \n",
       "\n",
       "  degree  year  weightage result  B.Com  B.E  ...  Master of Science (M.S.)  \\\n",
       "0    B.E  2019         30   fail      0    1  ...                         0   \n",
       "\n",
       "   Master of Science (M.Sc) (Hons.)  Master of Statistics (M.Stat)  \\\n",
       "0                                 0                              0   \n",
       "\n",
       "   PG Diploma in Data Science  PG in business  PGDBM  Post Graduate Diploma  \\\n",
       "0                           0               0      0                      0   \n",
       "\n",
       "   Post Graduate Diploma in Big Data Analytics (PG-DBDA)  \\\n",
       "0                                                  0       \n",
       "\n",
       "   Post Graduate Diploma in Management (P.G.D.M.)  \\\n",
       "0                                               0   \n",
       "\n",
       "   Post Graduate Programme (PGP)  \n",
       "0                              0  \n",
       "\n",
       "[1 rows x 47 columns]"
      ]
     },
     "execution_count": 24,
     "metadata": {},
     "output_type": "execute_result"
    }
   ],
   "source": [
    "df_final= pd.concat([df, df_onehot], axis=1, sort=False)\n",
    "df_final.head(1)"
   ]
  },
  {
   "cell_type": "code",
   "execution_count": 79,
   "metadata": {},
   "outputs": [
    {
     "data": {
      "text/html": [
       "<div>\n",
       "<style scoped>\n",
       "    .dataframe tbody tr th:only-of-type {\n",
       "        vertical-align: middle;\n",
       "    }\n",
       "\n",
       "    .dataframe tbody tr th {\n",
       "        vertical-align: top;\n",
       "    }\n",
       "\n",
       "    .dataframe thead th {\n",
       "        text-align: right;\n",
       "    }\n",
       "</style>\n",
       "<table border=\"1\" class=\"dataframe\">\n",
       "  <thead>\n",
       "    <tr style=\"text-align: right;\">\n",
       "      <th></th>\n",
       "      <th>Cloud Computing</th>\n",
       "      <th>Data Analytics</th>\n",
       "      <th>Hadoop</th>\n",
       "      <th>Image Processing</th>\n",
       "      <th>Machine Learning</th>\n",
       "      <th>Mathematics</th>\n",
       "      <th>MongoDB</th>\n",
       "      <th>MySQL</th>\n",
       "      <th>Natural Language Processing (NLP)</th>\n",
       "      <th>Python</th>\n",
       "      <th>R Programming</th>\n",
       "      <th>Statistical Modeling</th>\n",
       "      <th>Computer Vision</th>\n",
       "    </tr>\n",
       "  </thead>\n",
       "  <tbody>\n",
       "    <tr>\n",
       "      <td>7</td>\n",
       "      <td>0</td>\n",
       "      <td>0</td>\n",
       "      <td>0</td>\n",
       "      <td>0</td>\n",
       "      <td>0</td>\n",
       "      <td>0</td>\n",
       "      <td>0</td>\n",
       "      <td>0</td>\n",
       "      <td>0</td>\n",
       "      <td>1</td>\n",
       "      <td>0</td>\n",
       "      <td>0</td>\n",
       "      <td>0</td>\n",
       "    </tr>\n",
       "    <tr>\n",
       "      <td>1</td>\n",
       "      <td>0</td>\n",
       "      <td>1</td>\n",
       "      <td>0</td>\n",
       "      <td>0</td>\n",
       "      <td>0</td>\n",
       "      <td>0</td>\n",
       "      <td>0</td>\n",
       "      <td>0</td>\n",
       "      <td>0</td>\n",
       "      <td>0</td>\n",
       "      <td>0</td>\n",
       "      <td>0</td>\n",
       "      <td>0</td>\n",
       "    </tr>\n",
       "    <tr>\n",
       "      <td>4</td>\n",
       "      <td>0</td>\n",
       "      <td>0</td>\n",
       "      <td>0</td>\n",
       "      <td>0</td>\n",
       "      <td>0</td>\n",
       "      <td>1</td>\n",
       "      <td>0</td>\n",
       "      <td>0</td>\n",
       "      <td>0</td>\n",
       "      <td>0</td>\n",
       "      <td>0</td>\n",
       "      <td>0</td>\n",
       "      <td>0</td>\n",
       "    </tr>\n",
       "    <tr>\n",
       "      <td>2</td>\n",
       "      <td>0</td>\n",
       "      <td>0</td>\n",
       "      <td>0</td>\n",
       "      <td>1</td>\n",
       "      <td>0</td>\n",
       "      <td>0</td>\n",
       "      <td>0</td>\n",
       "      <td>0</td>\n",
       "      <td>0</td>\n",
       "      <td>0</td>\n",
       "      <td>0</td>\n",
       "      <td>0</td>\n",
       "      <td>0</td>\n",
       "    </tr>\n",
       "    <tr>\n",
       "      <td>10</td>\n",
       "      <td>1</td>\n",
       "      <td>0</td>\n",
       "      <td>0</td>\n",
       "      <td>0</td>\n",
       "      <td>0</td>\n",
       "      <td>0</td>\n",
       "      <td>0</td>\n",
       "      <td>0</td>\n",
       "      <td>0</td>\n",
       "      <td>0</td>\n",
       "      <td>0</td>\n",
       "      <td>0</td>\n",
       "      <td>0</td>\n",
       "    </tr>\n",
       "  </tbody>\n",
       "</table>\n",
       "</div>"
      ],
      "text/plain": [
       "     Cloud Computing   Data Analytics   Hadoop   Image Processing  \\\n",
       "7                  0                0        0                  0   \n",
       "1                  0                1        0                  0   \n",
       "4                  0                0        0                  0   \n",
       "2                  0                0        0                  1   \n",
       "10                 1                0        0                  0   \n",
       "\n",
       "     Machine Learning   Mathematics   MongoDB   MySQL  \\\n",
       "7                   0             0         0       0   \n",
       "1                   0             0         0       0   \n",
       "4                   0             1         0       0   \n",
       "2                   0             0         0       0   \n",
       "10                  0             0         0       0   \n",
       "\n",
       "     Natural Language Processing (NLP)   Python   R Programming  \\\n",
       "7                                    0        1               0   \n",
       "1                                    0        0               0   \n",
       "4                                    0        0               0   \n",
       "2                                    0        0               0   \n",
       "10                                   0        0               0   \n",
       "\n",
       "     Statistical Modeling  Computer Vision  \n",
       "7                       0                0  \n",
       "1                       0                0  \n",
       "4                       0                0  \n",
       "2                       0                0  \n",
       "10                      0                0  "
      ]
     },
     "execution_count": 79,
     "metadata": {},
     "output_type": "execute_result"
    }
   ],
   "source": [
    "for i in range(len(df)):\n",
    "    m_onehot = pd.get_dummies(str(df['skills'][i]).split(','), prefix=\"\", prefix_sep=\"\")\n",
    "df2=pd.DataFrame(m_onehot)\n",
    "df2.sample(5)"
   ]
  },
  {
   "cell_type": "code",
   "execution_count": 81,
   "metadata": {},
   "outputs": [],
   "source": [
    "df1=pd.concat([df_final,df2],axis=1,sort=False)"
   ]
  },
  {
   "cell_type": "code",
   "execution_count": 82,
   "metadata": {},
   "outputs": [
    {
     "data": {
      "text/plain": [
       "(522, 60)"
      ]
     },
     "execution_count": 82,
     "metadata": {},
     "output_type": "execute_result"
    }
   ],
   "source": [
    "df1.head(2)\n",
    "df1.shape"
   ]
  },
  {
   "cell_type": "code",
   "execution_count": 71,
   "metadata": {},
   "outputs": [
    {
     "data": {
      "text/plain": [
       "python                           int64\n",
       "r                                int64\n",
       "data_science                     int64\n",
       "skills                          object\n",
       "degree                          object\n",
       "                                ...   \n",
       " SQL                           float64\n",
       " SQL\\n519    Data Analytics    float64\n",
       " dtype: object                 float64\n",
       "...\\n1      AutoCAD            float64\n",
       "0      Machine Learning        float64\n",
       "Length: 72, dtype: object"
      ]
     },
     "execution_count": 71,
     "metadata": {},
     "output_type": "execute_result"
    }
   ],
   "source": [
    "df1.dtypes"
   ]
  },
  {
   "cell_type": "code",
   "execution_count": 83,
   "metadata": {},
   "outputs": [],
   "source": [
    "feature_cols = [\"python\", \"r\", \"data_science\",\"year\",\"B.E\",\"B.Tech\",\"MSc\",\"M.Tech\"]\n",
    "X = df3[feature_cols] # Features\n",
    "y = df3.result # Target variable\n"
   ]
  },
  {
   "cell_type": "code",
   "execution_count": 84,
   "metadata": {},
   "outputs": [],
   "source": [
    "df1.drop('skills',axis=1,inplace=True)"
   ]
  },
  {
   "cell_type": "code",
   "execution_count": 118,
   "metadata": {},
   "outputs": [],
   "source": [
    "from sklearn.model_selection import train_test_split\n",
    "X_train, X_test, y_train, y_test = train_test_split( X, y, test_size=0.1,random_state=4)"
   ]
  },
  {
   "cell_type": "code",
   "execution_count": 119,
   "metadata": {},
   "outputs": [
    {
     "name": "stdout",
     "output_type": "stream",
     "text": [
      "train_test: (469, 8) (469,)\n",
      "test_data: (53, 8) (53,)\n"
     ]
    }
   ],
   "source": [
    "print('train_test:',X_train.shape,y_train.shape)\n",
    "print('test_data:',X_test.shape,y_test.shape)"
   ]
  },
  {
   "cell_type": "code",
   "execution_count": 120,
   "metadata": {},
   "outputs": [
    {
     "name": "stderr",
     "output_type": "stream",
     "text": [
      "C:\\ProgramData\\Anaconda3\\lib\\site-packages\\sklearn\\linear_model\\logistic.py:432: FutureWarning: Default solver will be changed to 'lbfgs' in 0.22. Specify a solver to silence this warning.\n",
      "  FutureWarning)\n"
     ]
    },
    {
     "data": {
      "text/plain": [
       "LogisticRegression(C=1.0, class_weight=None, dual=False, fit_intercept=True,\n",
       "                   intercept_scaling=1, l1_ratio=None, max_iter=100,\n",
       "                   multi_class='warn', n_jobs=None, penalty='l2',\n",
       "                   random_state=None, solver='warn', tol=0.0001, verbose=0,\n",
       "                   warm_start=False)"
      ]
     },
     "execution_count": 120,
     "metadata": {},
     "output_type": "execute_result"
    }
   ],
   "source": [
    "from sklearn.linear_model import LogisticRegression\n",
    "logmodel = LogisticRegression()\n",
    "logmodel.fit(X_train,y_train)\n"
   ]
  },
  {
   "cell_type": "code",
   "execution_count": 121,
   "metadata": {},
   "outputs": [],
   "source": [
    "filename='internbuddy.sav'\n",
    "pickle.dump(logmodel,open(filename,'wb'))"
   ]
  },
  {
   "cell_type": "code",
   "execution_count": 122,
   "metadata": {},
   "outputs": [
    {
     "name": "stdout",
     "output_type": "stream",
     "text": [
      "0.9433962264150944\n"
     ]
    }
   ],
   "source": [
    "loaded_model=pickle.load(open(filename,'rb'))\n",
    "result=loaded_model.score(X_test,y_test)\n",
    "print(result)"
   ]
  },
  {
   "cell_type": "code",
   "execution_count": 123,
   "metadata": {},
   "outputs": [
    {
     "data": {
      "text/plain": [
       "array(['fail', 'fail', 'fail', 'fail', 'fail', 'fail', 'fail', 'fail',\n",
       "       'fail', 'fail', 'fail', 'fail', 'fail', 'fail', 'fail', 'fail',\n",
       "       'fail', 'fail', 'fail', 'fail', 'fail', 'fail', 'fail', 'fail',\n",
       "       'fail', 'fail', 'fail', 'fail', 'fail', 'fail', 'fail', 'fail',\n",
       "       'fail', 'fail', 'fail', 'fail', 'fail', 'fail', 'fail', 'fail',\n",
       "       'fail', 'fail', 'fail', 'fail', 'fail', 'fail', 'fail', 'fail',\n",
       "       'fail', 'fail', 'fail', 'fail', 'fail'], dtype=object)"
      ]
     },
     "execution_count": 123,
     "metadata": {},
     "output_type": "execute_result"
    }
   ],
   "source": [
    "s=loaded_model.predict(X_test)\n",
    "s"
   ]
  },
  {
   "cell_type": "code",
   "execution_count": 124,
   "metadata": {},
   "outputs": [
    {
     "name": "stderr",
     "output_type": "stream",
     "text": [
      "C:\\ProgramData\\Anaconda3\\lib\\site-packages\\sklearn\\metrics\\classification.py:635: DeprecationWarning: jaccard_similarity_score has been deprecated and replaced with jaccard_score. It will be removed in version 0.23. This implementation has surprising behavior for binary and multiclass classification tasks.\n",
      "  'and multiclass classification tasks.', DeprecationWarning)\n"
     ]
    },
    {
     "data": {
      "text/plain": [
       "0.9433962264150944"
      ]
     },
     "execution_count": 124,
     "metadata": {},
     "output_type": "execute_result"
    }
   ],
   "source": [
    "from sklearn.metrics import jaccard_similarity_score \n",
    "jaccard_similarity_score(y_test, s)\n"
   ]
  },
  {
   "cell_type": "code",
   "execution_count": 125,
   "metadata": {},
   "outputs": [],
   "source": [
    "c=confusion_matrix(s,y_test)"
   ]
  },
  {
   "cell_type": "code",
   "execution_count": 126,
   "metadata": {},
   "outputs": [
    {
     "data": {
      "text/plain": [
       "array([[50,  3],\n",
       "       [ 0,  0]], dtype=int64)"
      ]
     },
     "execution_count": 126,
     "metadata": {},
     "output_type": "execute_result"
    }
   ],
   "source": [
    "c"
   ]
  },
  {
   "cell_type": "code",
   "execution_count": 127,
   "metadata": {},
   "outputs": [],
   "source": [
    "prob=logmodel.predict_proba(X_test)\n"
   ]
  },
  {
   "cell_type": "code",
   "execution_count": 128,
   "metadata": {},
   "outputs": [
    {
     "data": {
      "text/plain": [
       "0.11077868531644415"
      ]
     },
     "execution_count": 128,
     "metadata": {},
     "output_type": "execute_result"
    }
   ],
   "source": [
    "from sklearn.metrics import log_loss\n",
    "log_loss(y_test, prob)\n"
   ]
  },
  {
   "cell_type": "code",
   "execution_count": 129,
   "metadata": {},
   "outputs": [
    {
     "name": "stdout",
     "output_type": "stream",
     "text": [
      "              precision    recall  f1-score   support\n",
      "\n",
      "        fail       0.94      1.00      0.97        50\n",
      "        pass       0.00      0.00      0.00         3\n",
      "\n",
      "    accuracy                           0.94        53\n",
      "   macro avg       0.47      0.50      0.49        53\n",
      "weighted avg       0.89      0.94      0.92        53\n",
      "\n"
     ]
    },
    {
     "name": "stderr",
     "output_type": "stream",
     "text": [
      "C:\\ProgramData\\Anaconda3\\lib\\site-packages\\sklearn\\metrics\\classification.py:1437: UndefinedMetricWarning: Precision and F-score are ill-defined and being set to 0.0 in labels with no predicted samples.\n",
      "  'precision', 'predicted', average, warn_for)\n"
     ]
    }
   ],
   "source": [
    "from sklearn.metrics import classification_report\n",
    "print (classification_report(y_test, s))\n"
   ]
  },
  {
   "cell_type": "code",
   "execution_count": null,
   "metadata": {},
   "outputs": [],
   "source": []
  }
 ],
 "metadata": {
  "kernelspec": {
   "display_name": "Python 3",
   "language": "python",
   "name": "python3"
  },
  "language_info": {
   "codemirror_mode": {
    "name": "ipython",
    "version": 3
   },
   "file_extension": ".py",
   "mimetype": "text/x-python",
   "name": "python",
   "nbconvert_exporter": "python",
   "pygments_lexer": "ipython3",
   "version": "3.7.4"
  }
 },
 "nbformat": 4,
 "nbformat_minor": 2
}
